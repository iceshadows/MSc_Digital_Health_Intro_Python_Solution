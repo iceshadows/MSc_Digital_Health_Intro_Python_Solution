{
 "cells": [
  {
   "cell_type": "code",
   "execution_count": 22,
   "id": "9795fdda-0b91-4b82-b359-b244bdc40ad0",
   "metadata": {},
   "outputs": [],
   "source": [
    "import math"
   ]
  },
  {
   "cell_type": "code",
   "execution_count": 23,
   "id": "c8cb0f38-ebf6-469f-8c42-6598e7db266b",
   "metadata": {},
   "outputs": [],
   "source": [
    "ROOM_LENGTH = 5\n",
    "ROOM_WIDTH = 4\n",
    "radiator_location = (2.5, 0)"
   ]
  },
  {
   "cell_type": "code",
   "execution_count": 24,
   "id": "f933e2cd-53b2-472c-8523-0e3f87f24189",
   "metadata": {},
   "outputs": [],
   "source": [
    "def get_pos_temp(x:float,y:float,T_rad,T_air):\n",
    "    global radiator_location\n",
    "    return (((T_rad-T_air)/math.sqrt(1+(x-radiator_location[0])**2+(y-radiator_location[1])**2))+T_air)"
   ]
  },
  {
   "cell_type": "code",
   "execution_count": 25,
   "id": "3cb5ae40-0249-4b69-8463-cbcaade09e31",
   "metadata": {},
   "outputs": [],
   "source": [
    "def get_average(l: list):\n",
    "    total = 0\n",
    "    for o in l:\n",
    "        total += o\n",
    "    return total/len(l)"
   ]
  },
  {
   "cell_type": "markdown",
   "id": "6c537fcb-f02e-4207-97b2-64fb96ecd9f1",
   "metadata": {},
   "source": [
    "0 0\n",
    "1 0.5\n",
    "2 1\n",
    "3 1.5"
   ]
  },
  {
   "cell_type": "markdown",
   "id": "7c104af4-9191-445e-a563-c6e18f28c8ac",
   "metadata": {},
   "source": [
    "## Q1"
   ]
  },
  {
   "cell_type": "code",
   "execution_count": 26,
   "id": "9f66979d-3dbc-4503-85c3-74bfe2cadb97",
   "metadata": {},
   "outputs": [],
   "source": [
    "T_rad = 40\n",
    "T_air = 5"
   ]
  },
  {
   "cell_type": "code",
   "execution_count": 27,
   "id": "f8a06933-97a9-4751-8910-975d6c828e75",
   "metadata": {},
   "outputs": [
    {
     "name": "stdout",
     "output_type": "stream",
     "text": [
      "17.9986736723936317.61767713064830316.6487041207298115.43498389499901814.2357894398043913.16805333663634812.258661863112977\n",
      "20.65247584249852520.018.44387239295407716.66666666666666415.0571759948220913.71977538464269812.637626158259733\n",
      "24.4145068678830223.20930936000651820.60917707119049417.9986736723936315.87338783464845314.23578943980439212.977240352174656\n",
      "29.7487373415291627.38607521733909423.0073514399634319.28869016623520616.5953102378588914.66603348793239513.249579113843055\n",
      "36.3049516849970531.88774478590815425.1143519896441820.27525231651946717.10419877178893314.95495472593952313.427009716003845\n",
      "40.034.1217603018245326.020.65247584249852517.2893204555937115.0571759948220913.488746876271653\n",
      "36.3049516849970531.88774478590815425.1143519896441820.27525231651946717.10419877178893314.95495472593952313.427009716003845\n",
      "29.7487373415291627.38607521733909423.0073514399634319.28869016623520616.5953102378588914.66603348793239513.249579113843055\n",
      "24.4145068678830223.20930936000651820.60917707119049417.9986736723936315.87338783464845314.23578943980439212.977240352174656\n",
      "20.65247584249852520.018.44387239295407716.66666666666666415.0571759948220913.71977538464269812.637626158259733\n",
      "17.9986736723936317.61767713064830316.6487041207298115.43498389499901814.2357894398043913.16805333663634812.258661863112977\n",
      "Average is : 19.22527795395525\n"
     ]
    }
   ],
   "source": [
    "fl_x = 5/10\n",
    "fl_y = 4/6\n",
    "base_x = 0\n",
    "base_y = 0\n",
    "temp_list = list()\n",
    "for x in range(0,11):\n",
    "    for y in range(0,7):\n",
    "        pos_x = base_x+x*fl_x\n",
    "        pos_y = base_y+y*fl_y\n",
    "        temp_pos = get_pos_temp(pos_x,pos_y,T_rad,T_air)\n",
    "        print(temp_pos,end=\"\")\n",
    "        temp_list.append(temp_pos)\n",
    "    print(\"\")\n",
    "print(\"Average is :\",get_average(temp_list))"
   ]
  },
  {
   "cell_type": "markdown",
   "id": "6434b4ed-6c14-434a-9b38-44171abcc44d",
   "metadata": {},
   "source": [
    "## Q2"
   ]
  },
  {
   "cell_type": "code",
   "execution_count": 33,
   "id": "90470c01-6225-48d3-815b-aa43ba87e5bf",
   "metadata": {},
   "outputs": [],
   "source": [
    "def get_T_average(T_rad):\n",
    "    global T_air\n",
    "    fl_x = 5/10\n",
    "    fl_y = 4/6\n",
    "    base_x = 0\n",
    "    base_y = 0\n",
    "    temp_list = list()\n",
    "    for x in range(0,11):\n",
    "        for y in range(0,7):\n",
    "            pos_x = base_x+x*fl_x\n",
    "            pos_y = base_y+y*fl_y\n",
    "            temp_pos = get_pos_temp(pos_x,pos_y,T_rad,T_air)\n",
    "            temp_list.append(temp_pos)\n",
    "    return get_average(temp_list)"
   ]
  },
  {
   "cell_type": "code",
   "execution_count": 45,
   "id": "c37ea957-3e13-4dad-b1f3-93a6cbac9263",
   "metadata": {},
   "outputs": [
    {
     "name": "stdout",
     "output_type": "stream",
     "text": [
      "Radiator temperature is 49.3 ◦C, The average temperature is 23.0 ◦C\n"
     ]
    }
   ],
   "source": [
    "T_rad = 40\n",
    "while(get_T_average(T_rad)<23):\n",
    "    T_rad += 0.1\n",
    "print(\"Radiator temperature is {:.1f} ◦C, The average temperature is {:.1f} ◦C\".format(T_rad,get_T_average(T_rad)))"
   ]
  },
  {
   "cell_type": "code",
   "execution_count": null,
   "id": "023717a2-b0e9-45dc-bd50-912c8944240d",
   "metadata": {},
   "outputs": [],
   "source": []
  }
 ],
 "metadata": {
  "kernelspec": {
   "display_name": "Python 3 (ipykernel)",
   "language": "python",
   "name": "python3"
  },
  "language_info": {
   "codemirror_mode": {
    "name": "ipython",
    "version": 3
   },
   "file_extension": ".py",
   "mimetype": "text/x-python",
   "name": "python",
   "nbconvert_exporter": "python",
   "pygments_lexer": "ipython3",
   "version": "3.9.12"
  }
 },
 "nbformat": 4,
 "nbformat_minor": 5
}
