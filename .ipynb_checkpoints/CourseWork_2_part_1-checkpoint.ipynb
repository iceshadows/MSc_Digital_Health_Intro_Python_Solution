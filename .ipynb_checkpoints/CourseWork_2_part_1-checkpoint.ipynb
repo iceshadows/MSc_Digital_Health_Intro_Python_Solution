{
 "cells": [
  {
   "cell_type": "code",
   "execution_count": 1,
   "id": "41ee32a7-74e5-4c62-bf6a-139e6d165a17",
   "metadata": {},
   "outputs": [],
   "source": [
    "import numpy as np\n",
    "import matplotlib.pyplot as plt"
   ]
  },
  {
   "cell_type": "code",
   "execution_count": 2,
   "id": "1b324b44-b073-4812-835b-31e3ed2034bf",
   "metadata": {},
   "outputs": [],
   "source": [
    "# Step1: read CSV Files\n",
    "\n",
    "data_maldives = np.genfromtxt(\"maldives_data.csv\",delimiter=\",\",dtype=str)\n",
    "data_solomon = np.genfromtxt(\"solomon_data.csv\",delimiter=\",\",dtype=str)"
   ]
  },
  {
   "cell_type": "code",
   "execution_count": 3,
   "id": "ed85abba-c781-42fd-9a7e-a8602668c2df",
   "metadata": {},
   "outputs": [],
   "source": [
    "# Step2:parse data using correct data type. Note: try to use the slice for numpy array.\n",
    "year_maldives =  data_maldives[1:,0].astype(np.int32)\n",
    "r_maldives = data_maldives[1:,1].astype(np.float32)"
   ]
  },
  {
   "cell_type": "code",
   "execution_count": 4,
   "id": "33764ea9-0dfd-44c9-a2b9-7df55b75a126",
   "metadata": {
    "tags": []
   },
   "outputs": [],
   "source": [
    "year_solomon =  data_solomon[1:,0].astype(np.int32)\n",
    "r_solomon = data_solomon[1:,1].astype(np.float32)"
   ]
  },
  {
   "cell_type": "code",
   "execution_count": 5,
   "id": "21634899-ba89-4af1-8ee1-15d7038dbc3b",
   "metadata": {},
   "outputs": [],
   "source": [
    "# Step 3: using a dict to storage the value which can make it easier to get r by searching year.\n",
    "r_solomons_dict = dict()\n",
    "for i,year in enumerate(year_solomon):\n",
    "    r_solomons_dict[year] = r_solomon[i]\n",
    "r_maldives_dict = dict()\n",
    "for i,year in enumerate(year_maldives):\n",
    "    r_maldives_dict[year] = r_solomon[i]"
   ]
  },
  {
   "cell_type": "code",
   "execution_count": 6,
   "id": "081c20c8-b34b-4801-8f85-aabd52c75738",
   "metadata": {},
   "outputs": [],
   "source": [
    "E_2010_Maldives = 2.4 #m\n",
    "W_2010_Maldives = 1000 #m\n",
    "L_Maldives = 298000 #m\n",
    "E_2010_Solomon = 2335 #m\n",
    "W_2010_Solomon = 50000 #m\n",
    "L_Solomon = 578000 #m"
   ]
  },
  {
   "cell_type": "code",
   "execution_count": 7,
   "id": "4d470fcf-a2fd-4fa8-bd3e-8fca4e3ab66c",
   "metadata": {},
   "outputs": [],
   "source": [
    "def get_e(e_2010, r):\n",
    "    return e_2010 - r\n",
    "\n",
    "\n",
    "def get_w(w_2010, e_2010, r):\n",
    "    return get_e(e_2010, r)*(w_2010/e_2010)\n",
    "\n",
    "\n",
    "def get_a(e_2010, w_2010, L, r):\n",
    "    return L * get_w(w_2010, e_2010, r)"
   ]
  },
  {
   "cell_type": "code",
   "execution_count": 8,
   "id": "450019d7-fb95-4412-a735-f84f70f0cdb2",
   "metadata": {},
   "outputs": [],
   "source": [
    "def liner_function(x,y):\n",
    "    i, j = np.polyfit(x, y, deg=1)\n",
    "    return np.poly1d([i, j])\n",
    "\n",
    "\n",
    "def complex_quadratic_function(x,y):\n",
    "    i, j, k = np.polyfit(x, y, deg=2)\n",
    "    return np.poly1d([i, j, k])"
   ]
  },
  {
   "cell_type": "code",
   "execution_count": 9,
   "id": "da9f4a0d-a007-49c8-bbb2-eea32d51a328",
   "metadata": {},
   "outputs": [],
   "source": [
    "# Step4 ：fit function"
   ]
  },
  {
   "cell_type": "code",
   "execution_count": 10,
   "id": "ec927358-ba57-4ada-b2f0-a6186e7cdd52",
   "metadata": {},
   "outputs": [],
   "source": [
    "maldives_liner_function = liner_function(year_maldives, r_maldives)\n",
    "r_maldives_pred_liner = maldives_liner_function(year_maldives)"
   ]
  },
  {
   "cell_type": "code",
   "execution_count": 11,
   "id": "719c5241-c48e-4e6a-b418-294f674e69e1",
   "metadata": {},
   "outputs": [],
   "source": [
    "maldives_complex_quadratic_function = complex_quadratic_function(year_maldives,r_maldives)\n",
    "r_maldives_pred_complex_quadratic = maldives_complex_quadratic_function(year_maldives)"
   ]
  },
  {
   "cell_type": "code",
   "execution_count": 12,
   "id": "efc74d92-f823-422d-ad25-40f0e2f27aa0",
   "metadata": {},
   "outputs": [],
   "source": [
    "solomon_liner_function = liner_function(year_solomon, r_solomon)\n",
    "r_solomon_pred_liner = solomon_liner_function(year_solomon)"
   ]
  },
  {
   "cell_type": "code",
   "execution_count": 13,
   "id": "f6354c0a-319d-40a6-9187-cff349af6a30",
   "metadata": {},
   "outputs": [],
   "source": [
    "solomon_complex_quadratic_function = complex_quadratic_function(year_solomon,r_solomon)\n",
    "r_solomon_pred_complex_quadratic = solomon_complex_quadratic_function(year_solomon)"
   ]
  },
  {
   "cell_type": "code",
   "execution_count": 14,
   "id": "ae96b99a-e62d-46fa-b2bc-8fed9c4ab277",
   "metadata": {},
   "outputs": [],
   "source": [
    "# Step 5 : calc RMSE\n",
    "def rmse(predictions, targets):\n",
    "    return np.sqrt(((predictions - targets) ** 2).mean())"
   ]
  },
  {
   "cell_type": "code",
   "execution_count": 15,
   "id": "ed08fb26-549a-4a2b-8270-86e43462efe9",
   "metadata": {},
   "outputs": [
    {
     "name": "stdout",
     "output_type": "stream",
     "text": [
      "RMSE for Liner in Maldives is 0.021483015808535382\n",
      "RMSE for Complex_Quadratic in Maldives is 0.021416831632857864\n"
     ]
    }
   ],
   "source": [
    "print(\"RMSE for Liner in {} is {}\".format(\"Maldives\",rmse(r_maldives_pred_liner,r_maldives)))\n",
    "print(\"RMSE for Complex_Quadratic in {} is {}\".format(\"Maldives\",rmse(r_maldives_pred_complex_quadratic,r_maldives)))"
   ]
  },
  {
   "cell_type": "code",
   "execution_count": 15,
   "id": "a57865be-ab7d-49c9-83c8-00be97abe045",
   "metadata": {},
   "outputs": [
    {
     "name": "stdout",
     "output_type": "stream",
     "text": [
      "RMSE for Liner in Solomon Islands is 0.0671965130886319\n",
      "RMSE for Complex_Quadratic in Solomon Islands is 0.06719606049318888\n"
     ]
    }
   ],
   "source": [
    "print(\"RMSE for Liner in {} is {}\".format(\"Solomon Islands\",rmse(r_solomon_pred_liner,r_solomon)))\n",
    "print(\"RMSE for Complex_Quadratic in {} is {}\".format(\"Solomon Islands\",rmse(r_solomon_pred_complex_quadratic,r_solomon)))"
   ]
  },
  {
   "cell_type": "code",
   "execution_count": 20,
   "id": "650056a7-2baf-48e5-a349-46a8bcfffc47",
   "metadata": {},
   "outputs": [
    {
     "data": {
      "text/plain": [
       "False"
      ]
     },
     "execution_count": 20,
     "metadata": {},
     "output_type": "execute_result"
    }
   ],
   "source": [
    "rmse(r_solomon_pred_liner,r_solomon)<rmse(r_solomon_pred_complex_quadratic,r_solomon)"
   ]
  },
  {
   "cell_type": "code",
   "execution_count": 18,
   "id": "ae26847f-caf4-43cb-adeb-7eba881e4d78",
   "metadata": {},
   "outputs": [
    {
     "data": {
      "text/plain": [
       "True"
      ]
     },
     "execution_count": 18,
     "metadata": {},
     "output_type": "execute_result"
    }
   ],
   "source": [
    "rmse(r_solomon_pred_liner,r_solomon)-rmse(r_solomon_pred_complex_quadratic,r_solomon) <0.1 # liner Win"
   ]
  },
  {
   "cell_type": "code",
   "execution_count": 17,
   "id": "54822c43-9401-4997-95e1-bd452d249a68",
   "metadata": {},
   "outputs": [],
   "source": [
    "solomon_pred_func = solomon_liner_function"
   ]
  },
  {
   "cell_type": "code",
   "execution_count": 22,
   "id": "c04c4b77-1acd-4c2f-bf9f-01dff22b02fb",
   "metadata": {},
   "outputs": [],
   "source": [
    "r_pred_solomon = list()\n",
    "year_list = list()\n",
    "for year in range(2030,2101):\n",
    "    year_list.append(year)\n",
    "    r_pred_solomon.append(get_a(E_2010_Solomon,W_2010_Solomon,L_Solomon,solomon_pred_func(year))/1e6)\n",
    "r_pred_solomon = np.array(r_pred_solomon)\n",
    "pred_year = np.array(year_list)"
   ]
  },
  {
   "cell_type": "code",
   "execution_count": 36,
   "id": "e0b6f2fa-aba8-41a0-af36-3232f736bca6",
   "metadata": {},
   "outputs": [
    {
     "data": {
      "image/png": "[encoded data removed]",
      "text/plain": [
       "<Figure size 640x480 with 1 Axes>"
      ]
     },
     "metadata": {},
     "output_type": "display_data"
    }
   ],
   "source": [
    "plt.figure()\n",
    "plt.scatter(pred_year,r_pred_solomon)\n",
    "plt.title(\"Predicted Land Mass Area for Solomon Islands from 2030 to 2100\")\n",
    "plt.ylabel(\"predicted land mass area (km)\")\n",
    "plt.xlabel(\"Year\")\n",
    "plt.savefig(\"Solomon.pdf\")"
   ]
  },
  {
   "cell_type": "code",
   "execution_count": 21,
   "id": "c87c285c-a6b5-42f8-bc19-0fccdacec103",
   "metadata": {},
   "outputs": [
    {
     "data": {
      "text/plain": [
       "False"
      ]
     },
     "execution_count": 21,
     "metadata": {},
     "output_type": "execute_result"
    }
   ],
   "source": [
    "rmse(r_maldives_pred_liner,r_maldives)<rmse(r_maldives_pred_complex_quadratic,r_maldives)"
   ]
  },
  {
   "cell_type": "code",
   "execution_count": 22,
   "id": "694e0831-271c-4335-98ff-66cb92fe4b16",
   "metadata": {},
   "outputs": [
    {
     "data": {
      "text/plain": [
       "True"
      ]
     },
     "execution_count": 22,
     "metadata": {},
     "output_type": "execute_result"
    }
   ],
   "source": [
    "rmse(r_maldives_pred_liner,r_maldives)-rmse(r_maldives_pred_complex_quadratic,r_maldives)<0.1 #Liner Win"
   ]
  },
  {
   "cell_type": "code",
   "execution_count": 32,
   "id": "4b371c2b-6000-4216-9b30-f808c3873dd3",
   "metadata": {},
   "outputs": [],
   "source": [
    "maldives_pred_func = maldives_liner_function"
   ]
  },
  {
   "cell_type": "code",
   "execution_count": 34,
   "id": "f79d95c4-5264-4910-95a3-973dcf3b9aab",
   "metadata": {},
   "outputs": [],
   "source": [
    "r_pred_maldives = list()\n",
    "year_list = list()\n",
    "for year in range(2030,2101):\n",
    "    year_list.append(year)\n",
    "    r_pred_maldives.append(get_a(E_2010_Maldives,W_2010_Maldives,L_Maldives,maldives_pred_func(year))/1e6)\n",
    "r_pred_maldives = np.array(r_pred_maldives)\n",
    "pred_year = np.array(year_list)"
   ]
  },
  {
   "cell_type": "code",
   "execution_count": 35,
   "id": "3944187f-333f-45f1-b0f9-67c426167ba6",
   "metadata": {},
   "outputs": [
    {
     "data": {
      "image/png": "[encoded data removed]",
      "text/plain": [
       "<Figure size 640x480 with 1 Axes>"
      ]
     },
     "metadata": {},
     "output_type": "display_data"
    }
   ],
   "source": [
    "plt.figure()\n",
    "plt.scatter(pred_year,r_pred_maldives)\n",
    "plt.title(\"Predicted Land Mass Area for Maldives from 2030 to 2100\")\n",
    "plt.ylabel(\"predicted land mass area (km)\")\n",
    "plt.xlabel(\"Year\")\n",
    "plt.savefig(\"Maldives.pdf\")"
   ]
  },
  {
   "cell_type": "code",
   "execution_count": null,
   "id": "c9adf4f7-550c-4043-b356-d6a0424de8d2",
   "metadata": {},
   "outputs": [],
   "source": []
  }
 ],
 "metadata": {
  "kernelspec": {
   "display_name": "tensorflow",
   "language": "python",
   "name": "tensorflow"
  },
  "language_info": {
   "codemirror_mode": {
    "name": "ipython",
    "version": 3
   },
   "file_extension": ".py",
   "mimetype": "text/x-python",
   "name": "python",
   "nbconvert_exporter": "python",
   "pygments_lexer": "ipython3",
   "version": "3.9.13"
  }
 },
 "nbformat": 4,
 "nbformat_minor": 5
}
