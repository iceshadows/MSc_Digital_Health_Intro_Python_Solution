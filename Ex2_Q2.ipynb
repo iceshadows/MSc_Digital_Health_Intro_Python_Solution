{
 "cells": [
  {
   "cell_type": "code",
   "execution_count": 22,
   "id": "14a428da-9198-4a5f-a16c-bcce7d266792",
   "metadata": {},
   "outputs": [],
   "source": [
    "def get_total(input:str):\n",
    "    out_dict=dict()\n",
    "    l = input.split(\"+\")\n",
    "    total_mass = 0\n",
    "    ato_mass_dict = {\n",
    "        \"H\": 1,\n",
    "        \"O\": 8\n",
    "    }\n",
    "    def split_ato(s:str):\n",
    "        amount = 0\n",
    "        ato = None\n",
    "        try:\n",
    "            for i,a in enumerate(s):\n",
    "                if not a.isdigit():\n",
    "                    if i != 0:\n",
    "                        amount = int(s[:i])\n",
    "                    else:\n",
    "                        amount = 1\n",
    "                    ato = s[i:]\n",
    "                    return amount,ato\n",
    "        except Exception as e:\n",
    "            print(\"Because of {},please input again\".format(e))\n",
    "            start()\n",
    "    for o in l:\n",
    "        amount,ato=split_ato(o)\n",
    "        try:\n",
    "            out_dict[ato] += amount\n",
    "        except:\n",
    "            out_dict[ato] = amount\n",
    "        try:\n",
    "            ato_mass = ato_mass_dict[ato]\n",
    "        except KeyError as e:\n",
    "            print(\"We did not recognize {},please input again\".format(e))\n",
    "            start()\n",
    "        total_mass += amount*ato_mass\n",
    "    return out_dict,total_mass"
   ]
  },
  {
   "cell_type": "code",
   "execution_count": 23,
   "id": "75f6ae75-5eee-4091-afda-10a99581e293",
   "metadata": {},
   "outputs": [
    {
     "data": {
      "text/plain": [
       "10"
      ]
     },
     "execution_count": 23,
     "metadata": {},
     "output_type": "execute_result"
    }
   ],
   "source": [
    "def start():\n",
    "    user_input=input(\"Please input something:\")\n",
    "    out_list = []\n",
    "    out_dict,total_mass = get_total(user_input)\n",
    "    for a in out_dict.keys():\n",
    "        a_str = \"\"\n",
    "        if out_dict[a] >1:\n",
    "            a_str += str(out_dict[a])\n",
    "        a_str += a\n",
    "        out_list.append(a_str)\n",
    "    print(\"Formula: {} ,Total Mass: {}\".format(\"\".join(out_list),total_mass))\n",
    "    exit()"
   ]
  },
  {
   "cell_type": "code",
   "execution_count": null,
   "id": "86d2ebd2-201e-43d7-ba83-2de38802d12c",
   "metadata": {},
   "outputs": [],
   "source": [
    "try:\n",
    "    start()\n",
    "except Exception as e:\n",
    "    print(\"Because of {},please input again\".format(e))\n",
    "    start()"
   ]
  }
 ],
 "metadata": {
  "kernelspec": {
   "display_name": "Python 3 (ipykernel)",
   "language": "python",
   "name": "python3"
  },
  "language_info": {
   "codemirror_mode": {
    "name": "ipython",
    "version": 3
   },
   "file_extension": ".py",
   "mimetype": "text/x-python",
   "name": "python",
   "nbconvert_exporter": "python",
   "pygments_lexer": "ipython3",
   "version": "3.9.12"
  }
 },
 "nbformat": 4,
 "nbformat_minor": 5
}
