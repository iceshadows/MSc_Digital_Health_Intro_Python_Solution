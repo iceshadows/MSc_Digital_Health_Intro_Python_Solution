{
 "cells": [
  {
   "cell_type": "code",
   "execution_count": 22,
   "id": "14a428da-9198-4a5f-a16c-bcce7d266792",
   "metadata": {},
   "outputs": [],
   "source": [
    "def get_total(input:str):\n",
    "    l = input.split(\"+\")\n",
    "    total_mass = 0\n",
    "    ato_mass_dict = {\n",
    "        \"H\": 1,\n",
    "        \"O\": 8\n",
    "    }\n",
    "    def split_ato(s:str):\n",
    "        amount = 0\n",
    "        ato = None\n",
    "        for i,a in enumerate(s):\n",
    "            if not a.isdigit():\n",
    "                amount = int(s[:i])\n",
    "                ato = s[i:]\n",
    "                return amount,ato\n",
    "    for o in l:\n",
    "        amount,ato=split_ato(o)\n",
    "        ato_mass = ato_mass_dict[ato]\n",
    "        total_mass += amount*ato_mass\n",
    "    return total_mass\n",
    "    \n",
    "                "
   ]
  },
  {
   "cell_type": "code",
   "execution_count": 23,
   "id": "75f6ae75-5eee-4091-afda-10a99581e293",
   "metadata": {},
   "outputs": [
    {
     "data": {
      "text/plain": [
       "10"
      ]
     },
     "execution_count": 23,
     "metadata": {},
     "output_type": "execute_result"
    }
   ],
   "source": [
    "get_total(\"2H+1O\")"
   ]
  },
  {
   "cell_type": "code",
   "execution_count": null,
   "id": "86d2ebd2-201e-43d7-ba83-2de38802d12c",
   "metadata": {},
   "outputs": [],
   "source": []
  }
 ],
 "metadata": {
  "kernelspec": {
   "display_name": "Python 3 (ipykernel)",
   "language": "python",
   "name": "python3"
  },
  "language_info": {
   "codemirror_mode": {
    "name": "ipython",
    "version": 3
   },
   "file_extension": ".py",
   "mimetype": "text/x-python",
   "name": "python",
   "nbconvert_exporter": "python",
   "pygments_lexer": "ipython3",
   "version": "3.9.12"
  }
 },
 "nbformat": 4,
 "nbformat_minor": 5
}
